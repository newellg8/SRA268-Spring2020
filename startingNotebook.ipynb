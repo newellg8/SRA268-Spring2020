{
  "nbformat": 4,
  "nbformat_minor": 0,
  "metadata": {
    "colab": {
      "name": "startingNotebook.ipynb",
      "provenance": [],
      "authorship_tag": "ABX9TyOmRG1CGBAlb/Aiu6+LE2YJ",
      "include_colab_link": true
    },
    "kernelspec": {
      "name": "python3",
      "display_name": "Python 3"
    }
  },
  "cells": [
    {
      "cell_type": "markdown",
      "metadata": {
        "id": "view-in-github",
        "colab_type": "text"
      },
      "source": [
        "<a href=\"https://colab.research.google.com/github/newellg8/SRA268-Spring2020/blob/master/startingNotebook.ipynb\" target=\"_parent\"><img src=\"https://colab.research.google.com/assets/colab-badge.svg\" alt=\"Open In Colab\"/></a>"
      ]
    },
    {
      "cell_type": "code",
      "metadata": {
        "id": "H3-9m1vE4qkv",
        "colab_type": "code",
        "colab": {}
      },
      "source": [
        ""
      ],
      "execution_count": 0,
      "outputs": []
    },
    {
      "cell_type": "markdown",
      "metadata": {
        "id": "JBI9q2V35d04",
        "colab_type": "text"
      },
      "source": [
        "# Abstract"
      ]
    },
    {
      "cell_type": "markdown",
      "metadata": {
        "id": "MHUqzJi450qo",
        "colab_type": "text"
      },
      "source": [
        "something in the abstract"
      ]
    },
    {
      "cell_type": "markdown",
      "metadata": {
        "id": "iOs-bBMD53ZA",
        "colab_type": "text"
      },
      "source": [
        "# introduction"
      ]
    },
    {
      "cell_type": "markdown",
      "metadata": {
        "id": "B6lyFhqG56Dy",
        "colab_type": "text"
      },
      "source": [
        ""
      ]
    },
    {
      "cell_type": "markdown",
      "metadata": {
        "id": "ZXUYoCTJ6C2u",
        "colab_type": "text"
      },
      "source": [
        "![no image here](https://raw.githubusercontent.com/newellg8/SRA268-Spring2020/master/images/flower.jpg)"
      ]
    }
  ]
}