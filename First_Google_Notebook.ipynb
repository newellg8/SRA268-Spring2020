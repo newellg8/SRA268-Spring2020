{
  "nbformat": 4,
  "nbformat_minor": 0,
  "metadata": {
    "colab": {
      "name": "First Google Notebook.ipynb",
      "provenance": [],
      "authorship_tag": "ABX9TyML7k+lWYfD34LBJ1o1pFrF",
      "include_colab_link": true
    },
    "kernelspec": {
      "name": "python3",
      "display_name": "Python 3"
    }
  },
  "cells": [
    {
      "cell_type": "markdown",
      "metadata": {
        "id": "view-in-github",
        "colab_type": "text"
      },
      "source": [
        "<a href=\"https://colab.research.google.com/github/newellg8/SRA268-Spring2020/blob/master/First_Google_Notebook.ipynb\" target=\"_parent\"><img src=\"https://colab.research.google.com/assets/colab-badge.svg\" alt=\"Open In Colab\"/></a>"
      ]
    },
    {
      "cell_type": "markdown",
      "metadata": {
        "id": "c-lwhhOaBu-3",
        "colab_type": "text"
      },
      "source": [
        "# Comparing Weather Over Time"
      ]
    },
    {
      "cell_type": "markdown",
      "metadata": {
        "id": "BqF1mXklKvSz",
        "colab_type": "text"
      },
      "source": [
        "# Outline"
      ]
    },
    {
      "cell_type": "markdown",
      "metadata": {
        "id": "mOz-218KLCzw",
        "colab_type": "text"
      },
      "source": [
        "First I looked over the data and decided to take the maximum and minimum temperatures from the first and sixth months of the year. I thought these would be good months to compare because they would have very different temperatures but would be similar from year to year. January is usually very cold while June is warm. I decided to create a bar graph with the information I selected. "
      ]
    },
    {
      "cell_type": "markdown",
      "metadata": {
        "id": "ZQrwsINHK36Y",
        "colab_type": "text"
      },
      "source": [
        "# Sketch"
      ]
    },
    {
      "cell_type": "markdown",
      "metadata": {
        "id": "xUFLxXZea0ek",
        "colab_type": "text"
      },
      "source": [
        "![Bar Graph](https://raw.githubusercontent.com/newellg8/SRA268-Spring2020/master/images/tempGraph.jpg)"
      ]
    },
    {
      "cell_type": "markdown",
      "metadata": {
        "id": "f2Ey2g38K7dG",
        "colab_type": "text"
      },
      "source": [
        "# Conclusions"
      ]
    },
    {
      "cell_type": "markdown",
      "metadata": {
        "id": "J-PKYShBVuLs",
        "colab_type": "text"
      },
      "source": [
        "In my bar graph I put the temperatures on the side going up in intervals of 10. I then put the time on the horizontal line. I separated the January and June data between the years. January and June are then separated by the maximum and minimum temperatures. This is easily seen through the color differences in the bars. Throughout the years, January has low maximum and minimum temperatures with the most extreme being in January of 2018. June has a high maximum and minimum with the most extreme in June 2018. Of the data given, I can conclude that 2018 has the most extreme weather conditions. "
      ]
    }
  ]
}