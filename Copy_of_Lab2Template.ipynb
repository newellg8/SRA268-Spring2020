{
  "nbformat": 4,
  "nbformat_minor": 0,
  "metadata": {
    "colab": {
      "name": "Copy of Lab2Template.ipynb",
      "provenance": [],
      "include_colab_link": true
    },
    "kernelspec": {
      "name": "python3",
      "display_name": "Python 3"
    }
  },
  "cells": [
    {
      "cell_type": "markdown",
      "metadata": {
        "id": "view-in-github",
        "colab_type": "text"
      },
      "source": [
        "<a href=\"https://colab.research.google.com/github/newellg8/SRA268-Spring2020/blob/master/Copy_of_Lab2Template.ipynb\" target=\"_parent\"><img src=\"https://colab.research.google.com/assets/colab-badge.svg\" alt=\"Open In Colab\"/></a>"
      ]
    },
    {
      "cell_type": "markdown",
      "metadata": {
        "id": "6sOc4Uyr4U-Z",
        "colab_type": "text"
      },
      "source": [
        "## Graph Types"
      ]
    },
    {
      "cell_type": "markdown",
      "metadata": {
        "id": "0zZdVLAd5CYr",
        "colab_type": "text"
      },
      "source": [
        "Creator\n",
        "* Grace Newell"
      ]
    },
    {
      "cell_type": "markdown",
      "metadata": {
        "id": "g-r6Clq45Hn4",
        "colab_type": "text"
      },
      "source": [
        "### Deviation\n"
      ]
    },
    {
      "cell_type": "markdown",
      "metadata": {
        "id": "2gorxo6E7A0t",
        "colab_type": "text"
      },
      "source": [
        "![alt text](https://raw.githubusercontent.com/newellg8/SRA268-Spring2020/master/images/Screen%20Shot%202020-02-20%20at%2011.55.56%20AM.png)"
      ]
    },
    {
      "cell_type": "markdown",
      "metadata": {
        "id": "w6bZ_NEi7E3w",
        "colab_type": "text"
      },
      "source": [
        "#### What is this telling us?"
      ]
    },
    {
      "cell_type": "markdown",
      "metadata": {
        "id": "95L-spaC7QHF",
        "colab_type": "text"
      },
      "source": [
        "This graph represents variation using a fixed point, the average of 4,938 points. This diverging bar chart can handle positive and negative values. For each year, there is a different amount of sum winning points. The game date and winning points are values being measured here. The average is subtracted by the sinning points so that you can see how many points are above or below average. The average line shows us this by having positive values on top and negative values on the bottom. The positive values are represented by a blue color while the negative values are represented by a red color. The positive blue color transitions from dark blue that represents a higher value to a lighter blue that represents a lower value of winning points. The negative red color tranisions from a dark red that is a higher value to a orange and a light orange which represents a lower value of winning points. "
      ]
    },
    {
      "cell_type": "markdown",
      "metadata": {
        "id": "YgXyXjmz7cDP",
        "colab_type": "text"
      },
      "source": [
        "### Correlation\n"
      ]
    },
    {
      "cell_type": "markdown",
      "metadata": {
        "id": "SGx15rZq7hvt",
        "colab_type": "text"
      },
      "source": [
        "![alt text](https://raw.githubusercontent.com/newellg8/SRA268-Spring2020/master/images/Screen%20Shot%202020-02-20%20at%2012.04.38%20PM.png)"
      ]
    },
    {
      "cell_type": "markdown",
      "metadata": {
        "id": "dljjONNi7jmj",
        "colab_type": "text"
      },
      "source": [
        "#### What is this telling us?"
      ]
    },
    {
      "cell_type": "markdown",
      "metadata": {
        "id": "PwZEZrFB7laG",
        "colab_type": "text"
      },
      "source": [
        "This graph shows the correlation between multiple points. The game date correlates to the winning or loosing points. The blue dots represent the losing points and the orange dots represent the winning points. The highlighted blue losing points on the right side of the graph help to show that the blue dots represent the losing points. Since the winning and losing points are different colors, it is easy to see the difference between them. From this graph, I can easily see that the amount of winning points each year is greater than the amount of losing points each year. I can also see that from 1985- 2017, the amount of winning and losing points are typically consistent. Although there is variation from year to year, there are no outstanding outliers. "
      ]
    },
    {
      "cell_type": "markdown",
      "metadata": {
        "id": "MqUdI-uL7r2s",
        "colab_type": "text"
      },
      "source": [
        "### Ranking\n"
      ]
    },
    {
      "cell_type": "markdown",
      "metadata": {
        "id": "AvlxCOVt7x9F",
        "colab_type": "text"
      },
      "source": [
        "![alt text](https://raw.githubusercontent.com/newellg8/SRA268-Spring2020/master/images/Screen%20Shot%202020-02-20%20at%207.00.57%20PM.png)"
      ]
    },
    {
      "cell_type": "markdown",
      "metadata": {
        "id": "lCAYtfza7yTq",
        "colab_type": "text"
      },
      "source": [
        "#### What is this telling us?"
      ]
    },
    {
      "cell_type": "markdown",
      "metadata": {
        "id": "MyuciD277ygU",
        "colab_type": "text"
      },
      "source": [
        "This graph is able to highlight the positioning of the data relative to one antoher. The season for each year is compated to the amount of losing points each year. By using a ranking graph, the years are able to be distributed based on the amount of points won in the season. As seen on the graph, 1989 has the tallest bar with 4,615 points and 1985 has the shortest bar with 3,738 points. The bars are arranged in decending order. The graph is also represented with a color transition. The highest amount of points are dark blue, and then as there are less points, the bars fade to light blue and light green. This helps to reiterate the decending pattern of the graph. "
      ]
    },
    {
      "cell_type": "markdown",
      "metadata": {
        "id": "dGDGl8-G7y8Y",
        "colab_type": "text"
      },
      "source": [
        "### Distribution\n"
      ]
    },
    {
      "cell_type": "markdown",
      "metadata": {
        "id": "FB0uV-jy76p9",
        "colab_type": "text"
      },
      "source": [
        "![alt text](https://raw.githubusercontent.com/newellg8/SRA268-Spring2020/master/images/Screen%20Shot%202020-02-21%20at%2012.28.00%20AM.png)"
      ]
    },
    {
      "cell_type": "markdown",
      "metadata": {
        "id": "_6SOzhrQ76zH",
        "colab_type": "text"
      },
      "source": [
        "#### What is this telling us?"
      ]
    },
    {
      "cell_type": "markdown",
      "metadata": {
        "id": "HBWqsS_g767h",
        "colab_type": "text"
      },
      "source": [
        "This graph is showing the values of the data set. using the median and range of the data, this bowplot is able to show the distributions of the data. The winning points for days in 1999 are being shown in this graph. The differnt color dots reprsent the days of the week that had winning points. The line separation between the dark grey and light grey represents the difference easily. The bottom line and dot around 77 points is representing the lower whisker and minimum value, while the dot and line at the top around 1,216 points is representing the upper whisker and maximum value. "
      ]
    },
    {
      "cell_type": "markdown",
      "metadata": {
        "id": "wQsDThk677Fy",
        "colab_type": "text"
      },
      "source": [
        "### Change over Time\n"
      ]
    },
    {
      "cell_type": "markdown",
      "metadata": {
        "id": "Z1j_YLOA7_OK",
        "colab_type": "text"
      },
      "source": [
        "![alt text](https://raw.githubusercontent.com/newellg8/SRA268-Spring2020/master/images/Screen%20Shot%202020-02-21%20at%2012.35.36%20AM.png)"
      ]
    },
    {
      "cell_type": "markdown",
      "metadata": {
        "id": "mpfsmmgi7_Vj",
        "colab_type": "text"
      },
      "source": [
        "#### What is this telling us?"
      ]
    },
    {
      "cell_type": "markdown",
      "metadata": {
        "id": "rYLXoMMO7_di",
        "colab_type": "text"
      },
      "source": [
        "This graph is showing the trend of the data. The line graph is showing a changing time series. The amount of points lost throughout the academic year is represented. The coloring of the line makes it easy to see if the points are at a low or high value. The lower values of the line are green and then transition into yellow, orange, and red. The line is red when it reaches its maximum value of losing points. Through the years, you can see that the amount of losing points does not vary significantly and there are a minimum number of outliers. The years of 1986-1988, 2001, and 2016 had the highest amount of losing points, as indicated by the red/ orange coloring. The years of 1984, 1998-199, and 2012 had the minimum amount of lowing points, as indicated by the green coloring. "
      ]
    },
    {
      "cell_type": "markdown",
      "metadata": {
        "id": "lFwiHoE-7_jZ",
        "colab_type": "text"
      },
      "source": [
        "### Magnitude\n"
      ]
    },
    {
      "cell_type": "markdown",
      "metadata": {
        "id": "ICQFnXj78EbF",
        "colab_type": "text"
      },
      "source": [
        "![alt text](https://raw.githubusercontent.com/newellg8/SRA268-Spring2020/master/images/Screen%20Shot%202020-02-20%20at%2012.20.17%20PM.png)"
      ]
    },
    {
      "cell_type": "markdown",
      "metadata": {
        "id": "QGG7XYG88Eii",
        "colab_type": "text"
      },
      "source": [
        "#### What is this telling us?"
      ]
    },
    {
      "cell_type": "markdown",
      "metadata": {
        "id": "VS7uGa0l8Eos",
        "colab_type": "text"
      },
      "source": [
        "This graph is showing a comparison of the data. This bar graph is good to compare the winning seed to the game date. The coloring of the bars reprsents the winning seeds from low to high. Winning seeds that have low values are dark green and then the colors gradually transition to light green, yellow, orange, and red. The high values of the winning seeds are red. The size of the bars also vary depending on the value of the winning seeds. The low values are thinner than the higher values. So, dark green bars are much thinner than the red thick bars since they represent the high winning seed values. The combination of color and size of the bars help to show the camparison of the data easily. "
      ]
    },
    {
      "cell_type": "markdown",
      "metadata": {
        "id": "bEKFxP8R8Evk",
        "colab_type": "text"
      },
      "source": [
        "### Part-to-Whole\n"
      ]
    },
    {
      "cell_type": "markdown",
      "metadata": {
        "id": "WFHlcYKV8E35",
        "colab_type": "text"
      },
      "source": [
        "![alt text](https://raw.githubusercontent.com/newellg8/SRA268-Spring2020/master/images/Screen%20Shot%202020-02-20%20at%2012.30.30%20PM.png)"
      ]
    },
    {
      "cell_type": "markdown",
      "metadata": {
        "id": "PNSd3wlp8UZH",
        "colab_type": "text"
      },
      "source": [
        "#### What is this telling us?"
      ]
    },
    {
      "cell_type": "markdown",
      "metadata": {
        "id": "y9tb_QRA8aqt",
        "colab_type": "text"
      },
      "source": [
        "This graph is showing individual entities in the data and how it relates to the other single entities. This pie graph completes a picture. The different parts of the pie graph are in different colors in order to represent the days in 1999. The size of the parts of the pie are representing the amount of winning points for each day. As you can see form the graph, weekend days are prominent days for the highest amount of winning points. Thursday represents the largest part of the pie graph and accounts for 1,515 winning points. Monday represents the smallest part of the pie graph and accounts for only 77 winning points. This graph allows you to see which days have the most amount of winning points. "
      ]
    }
  ]
}